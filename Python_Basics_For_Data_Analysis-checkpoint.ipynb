{
 "cells": [
  {
   "cell_type": "markdown",
   "id": "53dbf41d-6af9-4f81-accc-467fc9a35a46",
   "metadata": {},
   "source": [
    "# Python Basics for Data Analysis\n",
    "\n",
    "This notebook covers the basics of python for data analysis tasks:\n",
    "- Variables & Data Types\n",
    "- Control Flow(if/else, loops)\n",
    "- Functions\n",
    "- Data Structures(lists, dictionaries)\n",
    "- Using External Libraries\n",
    "- Using Pandas (An Introduction)\n",
    "- Example Problem\n",
    "\n",
    "Author: Aranya Sharma\n",
    "Date: July 2025"
   ]
  },
  {
   "cell_type": "markdown",
   "id": "9aa4d3ec-b48b-4d9c-b6b1-d550ec08bf9d",
   "metadata": {},
   "source": [
    "## Variables & Data Types"
   ]
  },
  {
   "cell_type": "code",
   "execution_count": 1,
   "id": "49de312a-7c77-4cbb-9e5a-8e474e1eb044",
   "metadata": {},
   "outputs": [
    {
     "name": "stdout",
     "output_type": "stream",
     "text": [
      "10 <class 'int'>\n",
      "3.14 <class 'float'>\n",
      "Hello <class 'str'>\n",
      "True <class 'bool'>\n"
     ]
    }
   ],
   "source": [
    "# Integer\n",
    "a = 10\n",
    "print(a, type(a))\n",
    "\n",
    "# Float\n",
    "b = 3.14\n",
    "print(b, type(b))\n",
    "\n",
    "# String\n",
    "c = \"Hello\"\n",
    "print(c, type(c))\n",
    "\n",
    "# Boolean\n",
    "d = True\n",
    "print(d, type(d))"
   ]
  },
  {
   "cell_type": "markdown",
   "id": "9446cad3-b497-4464-9a3f-d5ed8a8962b1",
   "metadata": {},
   "source": [
    "Here we define variables of different types, print their values and data types."
   ]
  },
  {
   "cell_type": "markdown",
   "id": "026cc7cf-ef0b-4ba0-ba6c-15b057e64db9",
   "metadata": {},
   "source": [
    "## Control Flow - Loops and Conditionals"
   ]
  },
  {
   "cell_type": "code",
   "execution_count": 2,
   "id": "aadf84dd-f53f-48cc-a12a-d1f1a146a07e",
   "metadata": {},
   "outputs": [
    {
     "name": "stdout",
     "output_type": "stream",
     "text": [
      "Positive\n",
      "0\n",
      "1\n",
      "2\n",
      "3\n",
      "4\n",
      "5\n",
      "6\n",
      "7\n",
      "8\n",
      "9\n",
      "0\n",
      "1\n",
      "2\n",
      "3\n",
      "4\n",
      "5\n",
      "6\n",
      "7\n",
      "8\n",
      "9\n"
     ]
    }
   ],
   "source": [
    "# If-else\n",
    "x = 10\n",
    "if x > 0:\n",
    "    print(\"Positive\")\n",
    "else:\n",
    "    print(\"Non-positive\")\n",
    "\n",
    "# For loop\n",
    "for i in range(10):\n",
    "    print(i)\n",
    "\n",
    "# While loop\n",
    "count = 0\n",
    "while count < 10:\n",
    "    print(count)   \n",
    "    count += 1 "
   ]
  },
  {
   "cell_type": "markdown",
   "id": "57a1142c-9afb-4e22-9a02-cd63231b0488",
   "metadata": {},
   "source": [
    "Conditionals allow you to control which code to be executed next when there are multiple options. \n",
    "Loops are a way to repeatedly execute the same code for desired frequency."
   ]
  },
  {
   "cell_type": "markdown",
   "id": "2071d008-e627-4c0d-ba47-70b826816956",
   "metadata": {},
   "source": [
    "## Functions"
   ]
  },
  {
   "cell_type": "code",
   "execution_count": 3,
   "id": "fc79cccf-1ae7-4752-b459-af7562867ec4",
   "metadata": {},
   "outputs": [
    {
     "name": "stdout",
     "output_type": "stream",
     "text": [
      "Hello, Aranya!\n"
     ]
    }
   ],
   "source": [
    "def greet(name):\n",
    "    return f\"Hello, {name}!\"\n",
    "    \n",
    "print(greet(\"Aranya\"))    "
   ]
  },
  {
   "cell_type": "markdown",
   "id": "36947b8f-9fd6-471b-abe2-21c2f3859a81",
   "metadata": {},
   "source": [
    "Functions allow you to reuse code and make it modular."
   ]
  },
  {
   "cell_type": "markdown",
   "id": "29aba8df-aeac-42f9-937c-7a0879c6664c",
   "metadata": {},
   "source": [
    "## Lists, Tuples & Dictionaries"
   ]
  },
  {
   "cell_type": "code",
   "execution_count": 4,
   "id": "312686fa-8727-42f0-b3f1-2c478a71436e",
   "metadata": {},
   "outputs": [
    {
     "name": "stdout",
     "output_type": "stream",
     "text": [
      "[1, 2, 3, 4]\n",
      "(1, 2, 3, 4)\n",
      "{'name': 'Aranya', 'age': 21}\n"
     ]
    }
   ],
   "source": [
    "# List\n",
    "my_list = [1, 2, 3, 4]\n",
    "print(my_list)\n",
    "\n",
    "# Tuple\n",
    "my_tuple = (1, 2, 3, 4)\n",
    "print(my_tuple)\n",
    "\n",
    "# Dictionary\n",
    "my_dict = {\"name\": \"Aranya\", \"age\": 21}\n",
    "print(my_dict)"
   ]
  },
  {
   "cell_type": "markdown",
   "id": "aee42130-f57c-49cd-bec6-bdcd534dcaa7",
   "metadata": {},
   "source": [
    "Lists are mutable sequences, tuples are immutable, and dictionaries store key-value pairs."
   ]
  },
  {
   "cell_type": "markdown",
   "id": "75447ed9-02e9-47a7-9915-e4ff11ab0a20",
   "metadata": {},
   "source": [
    "## Using External Libraries\n",
    "\n",
    "Python has a rich ecosystem of external libraries that make data analysis easier. Here we have imported some popular ones."
   ]
  },
  {
   "cell_type": "code",
   "execution_count": 5,
   "id": "d92acd11-73ca-409a-95e6-f204843e64d0",
   "metadata": {},
   "outputs": [
    {
     "name": "stdout",
     "output_type": "stream",
     "text": [
      "Square root of 4 is: 2.0\n",
      "A random number between 1 and 100: 61\n",
      "Numpy array: [1 2 3 4]\n",
      "Mean of array: 2.5\n"
     ]
    }
   ],
   "source": [
    "# Importing the math library\n",
    "import math\n",
    "\n",
    "print(\"Square root of 4 is:\", math.sqrt(4))\n",
    "\n",
    "# Importing the random library\n",
    "import random\n",
    "\n",
    "print(\"A random number between 1 and 100:\", random.randint(1, 100))\n",
    "\n",
    "# Importing the numpy library\n",
    "import numpy as np\n",
    "\n",
    "arr = np.array([1, 2, 3, 4])\n",
    "print(\"Numpy array:\", arr)\n",
    "print(\"Mean of array:\", np.mean(arr))"
   ]
  },
  {
   "cell_type": "markdown",
   "id": "3060792f-f0cd-472b-b5e0-d732d6f3aee1",
   "metadata": {},
   "source": [
    "Here we have used :\n",
    "- `math` for mathematical operations.\n",
    "- `random` for generating random numbers.\n",
    "- `numpy` for numerical computations on arrays."
   ]
  },
  {
   "cell_type": "markdown",
   "id": "82d489d9-7181-42e4-ba1a-c58457897dec",
   "metadata": {},
   "source": [
    "## Using Pandas (An Introduction)"
   ]
  },
  {
   "cell_type": "code",
   "execution_count": 6,
   "id": "f8ab5ef2-20cb-4921-aa04-ff7a7738fdd6",
   "metadata": {},
   "outputs": [
    {
     "name": "stdout",
     "output_type": "stream",
     "text": [
      "      Name  Age\n",
      "0    Alice   25\n",
      "1      Bob   30\n",
      "2  Charlie   28\n"
     ]
    }
   ],
   "source": [
    "# Importing pandas and creating a simple DataFrame\n",
    "import pandas as pd\n",
    "\n",
    "data = {\n",
    "    \"Name\": [\"Alice\", \"Bob\", \"Charlie\"],\n",
    "    \"Age\": [25, 30, 28]\n",
    "}\n",
    "\n",
    "df = pd.DataFrame(data)\n",
    "print(df)"
   ]
  },
  {
   "cell_type": "markdown",
   "id": "b380d2be-0df7-4771-9ef2-03d8f86f09fe",
   "metadata": {},
   "source": [
    "## Example Problem: Analyze Random Numbers\n",
    "\n",
    "We generate a list of 50 random integers between 1 and 100 (inclusive), convert them into a numpy array, and then compute basic statistics: mean, median and standard deviation. Additionally, we convert the data into a pandas DataFrame and display the first few rows."
   ]
  },
  {
   "cell_type": "code",
   "execution_count": 7,
   "id": "93fa8c45-dda2-4d57-8fe9-beb6cfd6f34b",
   "metadata": {},
   "outputs": [
    {
     "name": "stdout",
     "output_type": "stream",
     "text": [
      "Mean: 26.81188118811881\n",
      "Median: 27.0\n",
      "Standard Deviation: 13.824009012366947\n",
      "   Random Numbers\n",
      "0              17\n",
      "1               9\n",
      "2              20\n",
      "3              21\n",
      "4              49\n"
     ]
    }
   ],
   "source": [
    "import random\n",
    "import numpy as np\n",
    "import pandas as pd\n",
    "\n",
    "# Generate 50 random integers between 1 and 100(inclusive)\n",
    "random_numbers = [random.randint(1, 50) for _ in range(101)]\n",
    "\n",
    "# Convert to numpy array\n",
    "arr = np.array(random_numbers)\n",
    "\n",
    "# Calculate statistics\n",
    "mean = np.mean(arr)\n",
    "median = np.median(arr)\n",
    "std_dev = np.std(arr)\n",
    "\n",
    "print(f\"Mean: {mean}\")\n",
    "print(f\"Median: {median}\")\n",
    "print(f\"Standard Deviation: {std_dev}\")\n",
    "\n",
    "# Additional: Create a pandas DataFrame\n",
    "df = pd.DataFrame(arr, columns=[\"Random Numbers\"])\n",
    "print(df.head())"
   ]
  }
 ],
 "metadata": {
  "kernelspec": {
   "display_name": "Python 3 (ipykernel)",
   "language": "python",
   "name": "python3"
  },
  "language_info": {
   "codemirror_mode": {
    "name": "ipython",
    "version": 3
   },
   "file_extension": ".py",
   "mimetype": "text/x-python",
   "name": "python",
   "nbconvert_exporter": "python",
   "pygments_lexer": "ipython3",
   "version": "3.10.0"
  }
 },
 "nbformat": 4,
 "nbformat_minor": 5
}
